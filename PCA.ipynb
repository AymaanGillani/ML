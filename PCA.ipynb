{
 "cells": [
  {
   "cell_type": "markdown",
   "metadata": {},
   "source": [
    "# Principal Component Analysis"
   ]
  },
  {
   "cell_type": "markdown",
   "metadata": {},
   "source": [
    "PCA is a dimensionality reduction technique; it lets you distill multi-dimensional data down to fewer dimensions, selecting new dimensions that preserve variance in the data as best it can.\n",
    "\n",
    "We're not talking about Star Trek stuff here; let's make it real - a black & white image for example, contains three dimensions of data: X position, Y position, and brightness at each point. Distilling that down to two dimensions can be useful for things like image compression and facial recognition, because it distills out the information that contributes most to the variance in the data set.\n",
    "\n",
    "Let's do this with a simpler example: the Iris data set that comes with scikit-learn. It's just a small collection of data that has four dimensions of data for three different kinds of Iris flowers: The length and width of both the petals and sepals of many individual flowers from each species. Let's load it up and have a look:"
   ]
  },
  {
   "cell_type": "code",
   "execution_count": 1,
   "metadata": {},
   "outputs": [
    {
     "name": "stdout",
     "output_type": "stream",
     "text": [
      "150\n",
      "4\n",
      "['setosa', 'versicolor', 'virginica']\n"
     ]
    }
   ],
   "source": [
    "from sklearn.datasets import load_iris\n",
    "from sklearn.decomposition import PCA\n",
    "import pylab as pl\n",
    "from itertools import cycle\n",
    "\n",
    "iris = load_iris()\n",
    "\n",
    "numSamples, numFeatures = iris.data.shape\n",
    "print(numSamples)\n",
    "print(numFeatures)\n",
    "print(list(iris.target_names))"
   ]
  },
  {
   "cell_type": "markdown",
   "metadata": {},
   "source": [
    "So, this tells us our data set has 150 samples (individual flowers) in it. It has 4 dimensions - called features here, and three distinct Iris species that each flower is classified into.\n",
    "\n",
    "While we can visualize 2 or even 3 dimensions of data pretty easily, visualizing 4D data isn't something our brains can do. So let's distill this down to 2 dimensions, and see how well it works:"
   ]
  },
  {
   "cell_type": "code",
   "execution_count": 9,
   "metadata": {},
   "outputs": [
    {
     "data": {
      "text/plain": [
       "array([[-1.30533786],\n",
       "       [-1.31993521],\n",
       "       [-1.40496732],\n",
       "       [-1.33510889],\n",
       "       [-1.32702321],\n",
       "       [-1.10922246],\n",
       "       [-1.3716775 ],\n",
       "       [-1.27714084],\n",
       "       [-1.40369908],\n",
       "       [-1.29980851],\n",
       "       [-1.2191728 ],\n",
       "       [-1.27062918],\n",
       "       [-1.35493432],\n",
       "       [-1.5677929 ],\n",
       "       [-1.28618899],\n",
       "       [-1.16037307],\n",
       "       [-1.2758681 ],\n",
       "       [-1.28791362],\n",
       "       [-1.06981161],\n",
       "       [-1.25858365],\n",
       "       [-1.12351854],\n",
       "       [-1.23704894],\n",
       "       [-1.56396833],\n",
       "       [-1.11985996],\n",
       "       [-1.14564495],\n",
       "       [-1.21903752],\n",
       "       [-1.20063096],\n",
       "       [-1.24610158],\n",
       "       [-1.28365251],\n",
       "       [-1.27998309],\n",
       "       [-1.25829774],\n",
       "       [-1.17199289],\n",
       "       [-1.2881887 ],\n",
       "       [-1.26381174],\n",
       "       [-1.28238428],\n",
       "       [-1.39390411],\n",
       "       [-1.27669979],\n",
       "       [-1.36202232],\n",
       "       [-1.44947097],\n",
       "       [-1.25956597],\n",
       "       [-1.3471499 ],\n",
       "       [-1.3856985 ],\n",
       "       [-1.45769193],\n",
       "       [-1.16989296],\n",
       "       [-1.07451378],\n",
       "       [-1.32008584],\n",
       "       [-1.23434648],\n",
       "       [-1.38088078],\n",
       "       [-1.23674767],\n",
       "       [-1.31469177],\n",
       "       [ 0.6248335 ],\n",
       "       [ 0.4534857 ],\n",
       "       [ 0.71211617],\n",
       "       [ 0.08915066],\n",
       "       [ 0.5291639 ],\n",
       "       [ 0.31205505],\n",
       "       [ 0.53254741],\n",
       "       [-0.36431163],\n",
       "       [ 0.50777981],\n",
       "       [-0.00425305],\n",
       "       [-0.24697202],\n",
       "       [ 0.24884808],\n",
       "       [ 0.12886277],\n",
       "       [ 0.47899111],\n",
       "       [-0.08458299],\n",
       "       [ 0.45123514],\n",
       "       [ 0.3211077 ],\n",
       "       [ 0.11482204],\n",
       "       [ 0.45944076],\n",
       "       [ 0.02199468],\n",
       "       [ 0.54286829],\n",
       "       [ 0.17404748],\n",
       "       [ 0.63132983],\n",
       "       [ 0.44825311],\n",
       "       [ 0.34764584],\n",
       "       [ 0.43777075],\n",
       "       [ 0.64778709],\n",
       "       [ 0.7575868 ],\n",
       "       [ 0.39551766],\n",
       "       [-0.14861081],\n",
       "       [-0.03313112],\n",
       "       [-0.09221677],\n",
       "       [ 0.0663477 ],\n",
       "       [ 0.67113131],\n",
       "       [ 0.28595795],\n",
       "       [ 0.3923895 ],\n",
       "       [ 0.59364361],\n",
       "       [ 0.39639526],\n",
       "       [ 0.11961358],\n",
       "       [ 0.0809297 ],\n",
       "       [ 0.22604062],\n",
       "       [ 0.43321922],\n",
       "       [ 0.11211959],\n",
       "       [-0.34262628],\n",
       "       [ 0.17360643],\n",
       "       [ 0.16142562],\n",
       "       [ 0.18296034],\n",
       "       [ 0.3124961 ],\n",
       "       [-0.44083236],\n",
       "       [ 0.14540941],\n",
       "       [ 1.23096388],\n",
       "       [ 0.68825429],\n",
       "       [ 1.27253592],\n",
       "       [ 0.95879049],\n",
       "       [ 1.14284953],\n",
       "       [ 1.65204014],\n",
       "       [ 0.25348448],\n",
       "       [ 1.42616907],\n",
       "       [ 1.12885471],\n",
       "       [ 1.41846769],\n",
       "       [ 0.80815022],\n",
       "       [ 0.87702633],\n",
       "       [ 1.05316567],\n",
       "       [ 0.65466321],\n",
       "       [ 0.771265  ],\n",
       "       [ 0.92617089],\n",
       "       [ 0.94816834],\n",
       "       [ 1.69581683],\n",
       "       [ 1.84588964],\n",
       "       [ 0.63259806],\n",
       "       [ 1.18069088],\n",
       "       [ 0.58309549],\n",
       "       [ 1.70207314],\n",
       "       [ 0.67538158],\n",
       "       [ 1.10658218],\n",
       "       [ 1.27127853],\n",
       "       [ 0.61203482],\n",
       "       [ 0.6279004 ],\n",
       "       [ 1.03274856],\n",
       "       [ 1.16132819],\n",
       "       [ 1.38195584],\n",
       "       [ 1.57113386],\n",
       "       [ 1.0501728 ],\n",
       "       [ 0.70232121],\n",
       "       [ 0.86627524],\n",
       "       [ 1.49615644],\n",
       "       [ 1.04278353],\n",
       "       [ 0.92648299],\n",
       "       [ 0.56866412],\n",
       "       [ 1.02496865],\n",
       "       [ 1.12541445],\n",
       "       [ 0.9348329 ],\n",
       "       [ 0.68825429],\n",
       "       [ 1.24643883],\n",
       "       [ 1.17627914],\n",
       "       [ 0.94545505],\n",
       "       [ 0.74268819],\n",
       "       [ 0.85803259],\n",
       "       [ 0.9244616 ],\n",
       "       [ 0.67607348]])"
      ]
     },
     "execution_count": 9,
     "metadata": {},
     "output_type": "execute_result"
    }
   ],
   "source": [
    "X = iris.data\n",
    "pca = PCA(n_components=1, whiten=True).fit(X)\n",
    "X_pca = pca.transform(X)\n",
    "X_pca"
   ]
  },
  {
   "cell_type": "markdown",
   "metadata": {},
   "source": [
    "What we have done is distill our 4D data set down to 2D, by projecting it down to two orthogonal 4D vectors that make up the basis of our new 2D projection. We can see what those 4D vectors are, although it's not something you can really wrap your head around:"
   ]
  },
  {
   "cell_type": "code",
   "execution_count": 10,
   "metadata": {},
   "outputs": [
    {
     "name": "stdout",
     "output_type": "stream",
     "text": [
      "[[ 0.36138659 -0.08452251  0.85667061  0.3582892 ]]\n"
     ]
    }
   ],
   "source": [
    "print(pca.components_)"
   ]
  },
  {
   "cell_type": "markdown",
   "metadata": {},
   "source": [
    "Let's see how much information we've managed to preserve:"
   ]
  },
  {
   "cell_type": "code",
   "execution_count": 11,
   "metadata": {},
   "outputs": [
    {
     "name": "stdout",
     "output_type": "stream",
     "text": [
      "[0.92461872]\n",
      "0.9246187232017271\n"
     ]
    }
   ],
   "source": [
    "print(pca.explained_variance_ratio_)\n",
    "print(sum(pca.explained_variance_ratio_))"
   ]
  },
  {
   "cell_type": "markdown",
   "metadata": {},
   "source": [
    "That's pretty cool. Although we have thrown away two of our four dimensions, PCA has chosen the remaining two dimensions well enough that we've captured 92% of the variance in our data in a single dimension alone! The second dimension just gives us an additional 5%; altogether we've only really lost less than 3% of the variance in our data by projecting it down to two dimensions.\n",
    "\n",
    "As promised, now that we have a 2D representation of our data, we can plot it:"
   ]
  },
  {
   "cell_type": "code",
   "execution_count": 13,
   "metadata": {},
   "outputs": [
    {
     "data": {
      "image/png": "[encoded data removed]",
      "text/plain": [
       "<Figure size 432x288 with 1 Axes>"
      ]
     },
     "metadata": {
      "needs_background": "light"
     },
     "output_type": "display_data"
    }
   ],
   "source": [
    "%matplotlib inline\n",
    "from pylab import *\n",
    "\n",
    "colors = cycle('rgb')\n",
    "target_ids = range(len(iris.target_names))\n",
    "pl.figure()\n",
    "for i, c, label in zip(target_ids, colors, iris.target_names):\n",
    "    pl.scatter(X_pca[iris.target == i], X_pca[iris.target == i],\n",
    "        c=c, label=label)\n",
    "pl.legend()\n",
    "pl.show()\n",
    "    "
   ]
  },
  {
   "cell_type": "markdown",
   "metadata": {},
   "source": [
    "You can see the three different types of Iris are still clustered pretty well. If you think about it, this probably works well because the overall size of an individual flower probably makes both the petal and sepal sizes increase by a similar amount. Although the actual numbers on this graph have no intuitive meaning, what we're probably seeing is measure of the ratio of width to height for petals and sepals - and PCA distilled our data down to that on its own."
   ]
  },
  {
   "cell_type": "markdown",
   "metadata": {},
   "source": [
    "## Activity"
   ]
  },
  {
   "cell_type": "markdown",
   "metadata": {},
   "source": [
    "Our results suggest we could actually distill this data down to a single dimension and still preserve most of its variance. Try it! Do a PCA down to one component, and measure the results."
   ]
  },
  {
   "cell_type": "code",
   "execution_count": null,
   "metadata": {},
   "outputs": [],
   "source": []
  }
 ],
 "metadata": {
  "kernelspec": {
   "display_name": "Python 3",
   "language": "python",
   "name": "python3"
  },
  "language_info": {
   "codemirror_mode": {
    "name": "ipython",
    "version": 3
   },
   "file_extension": ".py",
   "mimetype": "text/x-python",
   "name": "python",
   "nbconvert_exporter": "python",
   "pygments_lexer": "ipython3",
   "version": "3.7.6"
  }
 },
 "nbformat": 4,
 "nbformat_minor": 1
}
