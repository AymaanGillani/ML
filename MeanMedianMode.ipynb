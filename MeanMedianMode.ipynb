{
 "cells": [
  {
   "cell_type": "markdown",
   "metadata": {},
   "source": [
    "# Mean, Median, Mode, and introducing NumPy"
   ]
  },
  {
   "cell_type": "markdown",
   "metadata": {},
   "source": [
    "## Mean vs. Median"
   ]
  },
  {
   "cell_type": "markdown",
   "metadata": {},
   "source": [
    "Let's create some fake income data, centered around 27,000 with a normal distribution and standard deviation of 15,000, with 10,000 data points. (We'll discuss those terms more later, if you're not familiar with them.)\n",
    "\n",
    "Then, compute the mean (average) - it should be close to 27,000:"
   ]
  },
  {
   "cell_type": "code",
   "execution_count": 16,
   "metadata": {},
   "outputs": [
    {
     "data": {
      "text/plain": [
       "26947.03584513607"
      ]
     },
     "execution_count": 16,
     "metadata": {},
     "output_type": "execute_result"
    }
   ],
   "source": [
    "import numpy as np\n",
    "\n",
    "incomes = np.random.normal(27000, 15000, 10000)\n",
    "np.mean(incomes)"
   ]
  },
  {
   "cell_type": "markdown",
   "metadata": {},
   "source": [
    "We can segment the income data into 50 buckets, and plot it as a histogram:"
   ]
  },
  {
   "cell_type": "code",
   "execution_count": 17,
   "metadata": {},
   "outputs": [
    {
     "data": {
      "image/png": "[encoded data removed]",
      "text/plain": [
       "<Figure size 432x288 with 1 Axes>"
      ]
     },
     "metadata": {
      "needs_background": "light"
     },
     "output_type": "display_data"
    }
   ],
   "source": [
    "%matplotlib inline\n",
    "import matplotlib.pyplot as plt\n",
    "plt.hist(incomes, 270)\n",
    "plt.show()"
   ]
  },
  {
   "cell_type": "markdown",
   "metadata": {},
   "source": [
    "Now compute the median - since we have a nice, even distribution it too should be close to 27,000:"
   ]
  },
  {
   "cell_type": "code",
   "execution_count": 7,
   "metadata": {},
   "outputs": [
    {
     "data": {
      "text/plain": [
       "27290.089338927304"
      ]
     },
     "execution_count": 7,
     "metadata": {},
     "output_type": "execute_result"
    }
   ],
   "source": [
    "np.median(incomes)"
   ]
  },
  {
   "cell_type": "markdown",
   "metadata": {},
   "source": [
    "Now we'll add Jeff Bezos into the mix. Darn income inequality!"
   ]
  },
  {
   "cell_type": "code",
   "execution_count": 9,
   "metadata": {},
   "outputs": [],
   "source": [
    "incomes = np.append(incomes, [1000000000])"
   ]
  },
  {
   "cell_type": "markdown",
   "metadata": {},
   "source": [
    "The median won't change much, but the mean does:"
   ]
  },
  {
   "cell_type": "code",
   "execution_count": 10,
   "metadata": {},
   "outputs": [
    {
     "data": {
      "text/plain": [
       "27294.065479296267"
      ]
     },
     "execution_count": 10,
     "metadata": {},
     "output_type": "execute_result"
    }
   ],
   "source": [
    "np.median(incomes)"
   ]
  },
  {
   "cell_type": "code",
   "execution_count": 11,
   "metadata": {},
   "outputs": [
    {
     "data": {
      "text/plain": [
       "127038.6882902263"
      ]
     },
     "execution_count": 11,
     "metadata": {},
     "output_type": "execute_result"
    }
   ],
   "source": [
    "np.mean(incomes)"
   ]
  },
  {
   "cell_type": "markdown",
   "metadata": {},
   "source": [
    "## Mode"
   ]
  },
  {
   "cell_type": "markdown",
   "metadata": {},
   "source": [
    "Next, let's generate some fake age data for 500 people:"
   ]
  },
  {
   "cell_type": "code",
   "execution_count": 13,
   "metadata": {},
   "outputs": [
    {
     "data": {
      "text/plain": [
       "array([48, 61, 64, 81, 43, 80, 73, 31, 84, 26, 50, 84, 28, 19, 61, 81, 69,\n",
       "       52, 49, 80, 69, 20, 30, 58, 43, 64, 79, 61, 69, 24, 88, 66, 56, 38,\n",
       "       68, 56, 39, 68, 88, 73, 66, 80, 30, 66, 84, 76, 76, 80, 71, 80, 68,\n",
       "       71, 77, 44, 62, 49, 19, 32, 71, 21, 63, 20, 69, 56, 37, 21, 21, 65,\n",
       "       35, 85, 29, 23, 19, 34, 62, 34, 83, 86, 32, 49, 59, 62, 56, 39, 32,\n",
       "       31, 54, 35, 32, 86, 45, 32, 33, 38, 30, 19, 61, 31, 28, 38, 48, 76,\n",
       "       75, 29, 29, 63, 29, 33, 68, 46, 23, 21, 40, 36, 19, 43, 44, 47, 54,\n",
       "       77, 67, 80, 72, 64, 79, 70, 75, 23, 76, 69, 60, 82, 58, 80, 20, 35,\n",
       "       22, 71, 88, 60, 21, 33, 47, 73, 87, 72, 33, 81, 29, 62, 56, 38, 49,\n",
       "       51, 53, 78, 36, 55, 31, 41, 34, 73, 42, 76, 37, 80, 31, 88, 48, 28,\n",
       "       54, 39, 21, 23, 63, 32, 51, 25, 61, 73, 56, 63, 76, 51, 64, 83, 79,\n",
       "       68, 53, 82, 63, 24, 75, 85, 34, 26, 33, 55, 88, 42, 46, 65, 50, 77,\n",
       "       42, 53, 51, 67, 20, 68, 50, 44, 27, 24, 57, 69, 84, 48, 38, 18, 87,\n",
       "       85, 39, 31, 65, 27, 48, 87, 67, 55, 71, 31, 23, 28, 79, 32, 24, 86,\n",
       "       59, 78, 53, 42, 31, 62, 54, 56, 86, 83, 66, 71, 75, 44, 57, 68, 57,\n",
       "       20, 38, 34, 18, 71, 75, 47, 36, 22, 84, 49, 61, 18, 67, 33, 60, 71,\n",
       "       48, 32, 80, 84, 48, 54, 73, 69, 48, 61, 38, 42, 27, 63, 29, 39, 41,\n",
       "       51, 72, 44, 47, 26, 42, 75, 82, 71, 50, 47, 76, 81, 41, 63, 28, 34,\n",
       "       33, 45, 40, 48, 44, 70, 48, 64, 28, 73, 69, 83, 67, 84, 78, 79, 34,\n",
       "       81, 82, 66, 65, 64, 55, 64, 47, 52, 37, 83, 24, 41, 81, 19, 23, 47,\n",
       "       44, 48, 69, 48, 41, 34, 32, 86, 82, 40, 56, 89, 73, 37, 63, 65, 50,\n",
       "       52, 36, 46, 69, 44, 69, 59, 58, 61, 69, 44, 61, 23, 23, 62, 45, 46,\n",
       "       71, 40, 75, 52, 64, 79, 73, 19, 47, 63, 59, 24, 56, 63, 86, 81, 47,\n",
       "       68, 45, 46, 36, 60, 61, 56, 86, 62, 66, 36, 68, 79, 53, 51, 70, 58,\n",
       "       68, 44, 27, 22, 25, 52, 63, 50, 22, 33, 75, 36, 43, 63, 73, 72, 43,\n",
       "       24, 66, 61, 20, 72, 29, 50, 69, 80, 58, 48, 73, 30, 31, 50, 18, 65,\n",
       "       42, 52, 48, 85, 85, 21, 25, 38, 64, 21, 53, 60, 74, 41, 26, 29, 66,\n",
       "       57, 54, 47, 71, 79, 36, 30, 50, 74, 53, 56, 54, 31, 52, 50, 83, 20,\n",
       "       68, 68, 37, 36, 30, 85, 80, 25, 41, 64, 82, 23, 33, 57, 51, 48, 70,\n",
       "       89, 61, 80, 49, 86, 72, 56])"
      ]
     },
     "execution_count": 13,
     "metadata": {},
     "output_type": "execute_result"
    }
   ],
   "source": [
    "ages = np.random.randint(18, high=90, size=500)\n",
    "ages"
   ]
  },
  {
   "cell_type": "code",
   "execution_count": 14,
   "metadata": {},
   "outputs": [
    {
     "data": {
      "text/plain": [
       "ModeResult(mode=array([48]), count=array([15]))"
      ]
     },
     "execution_count": 14,
     "metadata": {},
     "output_type": "execute_result"
    }
   ],
   "source": [
    "from scipy import stats\n",
    "stats.mode(ages)"
   ]
  },
  {
   "cell_type": "code",
   "execution_count": null,
   "metadata": {},
   "outputs": [],
   "source": []
  }
 ],
 "metadata": {
  "kernelspec": {
   "display_name": "Python 3",
   "language": "python",
   "name": "python3"
  },
  "language_info": {
   "codemirror_mode": {
    "name": "ipython",
    "version": 3
   },
   "file_extension": ".py",
   "mimetype": "text/x-python",
   "name": "python",
   "nbconvert_exporter": "python",
   "pygments_lexer": "ipython3",
   "version": "3.7.6"
  }
 },
 "nbformat": 4,
 "nbformat_minor": 1
}
